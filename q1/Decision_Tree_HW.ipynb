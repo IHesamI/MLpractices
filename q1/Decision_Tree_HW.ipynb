{
  "cells": [
    {
      "cell_type": "code",
      "execution_count": 22,
      "metadata": {
        "id": "o2CNQkqhIHqX"
      },
      "outputs": [],
      "source": [
        "class node:\n",
        "  def __init__(self ,parent, left, right , values , column, threshhold):\n",
        "    self.parent:node = parent\n",
        "    self.left:node  = left\n",
        "    self.right:node = right\n",
        "    self.values:np.ndarray = values\n",
        "    self.column:int = column\n",
        "    self.threshhold:float = threshhold\n",
        "\n",
        "  def is_leaf(self):\n",
        "    if self.values is None:\n",
        "      return False\n",
        "    return True"
      ]
    },
    {
      "cell_type": "code",
      "execution_count": 23,
      "metadata": {
        "id": "6ZRoK_wVGsVx"
      },
      "outputs": [],
      "source": [
        "import numpy as np\n",
        "class DecisionTree:\n",
        "    # Multiclass Decision Tree classifier\n",
        "\n",
        "    def __init__(self):\n",
        "        self.tree = node(None, None, None, None, None, None)\n",
        "        self.number_of_classes = -1\n",
        "        self.classes = None\n",
        "\n",
        "    def fit(self, X, Y, max_depth=5, kind='best', sample_size=20):\n",
        "        self.tree = DecisionTree()\n",
        "        self.tree.fit(X, Y, max_depth=max_depth, kind=kind, sample_size=sample_size)\n",
        "        \n",
        "\n",
        "    def predict(self, X):\n",
        "      predicted_labels = self.tree.predict(X)\n",
        "      return predicted_labels\n",
        "\n",
        "    def _predict_tree(self, tree, X):\n",
        "        tree = DecisionTree()\n",
        "        node = tree.tree\n",
        "        X = np.array([[2, 3], [3, 4]])\n",
        "        predicted_labels = tree._predict_tree(node, X)\n",
        "        \n",
        "\n",
        "    def _tree_builder(self, tree, X, Y, depth):\n",
        "        tree = DecisionTree()\n",
        "        node = tree.tree\n",
        "        X = np.array([[1, 2], [2, 3], [3, 4]])\n",
        "        Y = np.array([0, 1, 0])\n",
        "        tree._tree_builder(node, X, Y, depth=1)\n",
        "        \n",
        "\n",
        "    def _check_leaf(self, Y):\n",
        "        tree = DecisionTree()\n",
        "        Y = np.array([0, 0, 0])\n",
        "        is_leaf = tree._check_leaf(Y)\n",
        "        \n",
        "\n",
        "    def _build_leaf(self, node, Y):\n",
        "        tree = DecisionTree()\n",
        "        node = tree.tree\n",
        "        Y = np.array([0, 1, 0])\n",
        "        tree._build_leaf(node, Y)\n",
        "        \n",
        "\n",
        "    def _calculate_entropy(self, labels):\n",
        "        tree = DecisionTree()\n",
        "        labels = np.array([0, 1, 0, 1, 1])\n",
        "        entropy = tree._calculate_entropy(labels)\n",
        "        \n",
        "        \n",
        "    def _information_gain(self, X, Y, column, row):\n",
        "        tree = DecisionTree()\n",
        "        X = np.array([[1, 2], [2, 3], [3, 4]])\n",
        "        Y = np.array([0, 1, 0])\n",
        "        gain = tree._information_gain(X, Y, column=1, threshold=2)\n",
        "        \n",
        "\n",
        "    def _find_split(self, X, Y):\n",
        "        tree = DecisionTree()\n",
        "        X = np.array([[1, 2], [2, 3], [3, 4]])\n",
        "        Y = np.array([0, 1, 0])\n",
        "        split = tree._find_split(X, Y)\n",
        "\n"
      ]
    },
    {
      "cell_type": "code",
      "execution_count": 24,
      "metadata": {},
      "outputs": [],
      "source": [
        "# 1.B\n",
        "import numpy as np\n",
        "from sklearn.tree import DecisionTreeClassifier\n",
        "from sklearn.model_selection import train_test_split\n",
        "from sklearn.metrics import accuracy_score\n",
        "import matplotlib.pyplot as plt\n",
        "import seaborn as sns\n",
        "import pandas as pd\n",
        "\n",
        "\n",
        "x=np.load('x.npy')\n",
        "y=np.load('y.npy')\n",
        "\n",
        "\n",
        "X_train, X_test, y_train, y_test = train_test_split(x, y, test_size=0.2, random_state=42)\n"
      ]
    },
    {
      "cell_type": "code",
      "execution_count": 25,
      "metadata": {
        "id": "v_2_KcQOIFyT"
      },
      "outputs": [],
      "source": [
        "max_depth_values = [5, 10, 15,20]\n",
        "min_samples_split_values = [2, 5, 10,15]\n",
        "\n",
        "results = {} \n",
        "\n",
        "for max_depth in max_depth_values:\n",
        "    for min_samples_split in min_samples_split_values:\n",
        "        clf = DecisionTreeClassifier(max_depth=max_depth, min_samples_split=min_samples_split, random_state=42)\n",
        "        clf.fit(X_train, y_train)\n",
        "        y_pred = clf.predict(X_test)\n",
        "        accuracy = accuracy_score(y_test, y_pred)\n",
        "\n",
        "        results[(max_depth, min_samples_split)] = accuracy\n",
        "\n"
      ]
    },
    {
      "cell_type": "code",
      "execution_count": 26,
      "metadata": {},
      "outputs": [
        {
          "data": {
            "image/png": "[encoded data removed]",
            "text/plain": [
              "<Figure size 720x432 with 2 Axes>"
            ]
          },
          "metadata": {
            "needs_background": "light"
          },
          "output_type": "display_data"
        }
      ],
      "source": [
        "results_df = pd.DataFrame({'Max Depth': [params[0] for params in results.keys()],\n",
        "                           'Min Samples Split': [params[1] for params in results.keys()],\n",
        "                           'Accuracy': [accuracy for accuracy in results.values()]})\n",
        "\n",
        "# Create a pivot table for the heatmap\n",
        "pivot_table = results_df.pivot('Max Depth', 'Min Samples Split', 'Accuracy')\n",
        "\n",
        "# Create a heatmap to visualize the results\n",
        "plt.figure(figsize=(10, 6))\n",
        "sns.heatmap(pivot_table, annot=True, fmt='.3f', cmap='YlGnBu')\n",
        "plt.title('Decision Tree Classifier Hyperparameter Search')\n",
        "plt.xlabel('Min Samples Split')\n",
        "plt.ylabel('Max Depth')\n",
        "plt.show()"
      ]
    },
    {
      "cell_type": "code",
      "execution_count": 27,
      "metadata": {},
      "outputs": [],
      "source": [
        "# 1.C\n",
        "from sklearn.ensemble import RandomForestClassifier\n",
        "from sklearn.linear_model import SGDClassifier\n",
        "\n",
        "accuracies={}\n",
        "random_classifier=RandomForestClassifier()\n",
        "random_classifier.fit(X_train,y_train)\n",
        "random_predict=random_classifier.predict(X_test)\n",
        "acc=accuracy_score(y_test,random_predict)\n",
        "\n",
        "accuracies['Random Forest accuracy']=acc\n",
        "\n",
        "\n",
        "sgd_classifier=SGDClassifier()\n",
        "sgd_classifier.fit(X_train,y_train)\n",
        "sgd_predict=random_classifier.predict(X_test)\n",
        "acc=accuracy_score(y_test,sgd_predict)\n",
        "accuracies['Gradiant accuracy']=acc"
      ]
    },
    {
      "cell_type": "code",
      "execution_count": 28,
      "metadata": {},
      "outputs": [
        {
          "data": {
            "text/plain": [
              "{'Random Forest accuracy': 0.6811111111111111,\n",
              " 'Gradiant accuracy': 0.6811111111111111}"
            ]
          },
          "metadata": {},
          "output_type": "display_data"
        }
      ],
      "source": [
        "display(accuracies)"
      ]
    },
    {
      "cell_type": "code",
      "execution_count": 29,
      "metadata": {},
      "outputs": [],
      "source": [
        "from sklearn.metrics import precision_score, recall_score, f1_score , confusion_matrix\n",
        "train_sizes=[0.25,0.5,0.75,1]\n",
        "Evaluations={}\n",
        "accuracy_scores_random=[]\n",
        "accuracy_scores_gradiant=[]\n",
        "cm_random_forest=[]\n",
        "cm_gradiant_decsent=[]\n",
        "\n",
        "\n",
        "for trainSize in train_sizes:\n",
        "    X_train, X_test, y_train, y_test = train_test_split(x, y, test_size=trainSize, random_state=42)\n",
        "    random_classifier=RandomForestClassifier()\n",
        "    random_classifier.fit(X_train,y_train)\n",
        "    random_predict=random_classifier.predict(X_test)\n",
        "    precision = precision_score(y_test, random_predict,average=None)\n",
        "    recall = recall_score(y_test, random_predict,average=None)\n",
        "    f1 = f1_score(y_test, random_predict,average=None)\n",
        "    random_acc= {\"precision\":precision,\"recall\":recall,'f1':f1}\n",
        "    sgd_classifier=SGDClassifier()\n",
        "    sgd_classifier.fit(X_train,y_train)\n",
        "    sgd_predict=random_classifier.predict(X_test)\n",
        "    precision = precision_score(y_test, sgd_predict,average=None)\n",
        "    recall = recall_score(y_test, sgd_predict,average=None)\n",
        "    f1 = f1_score(y_test, sgd_predict,average=None)\n",
        "    sgd_acc= {\"precision\":precision,\"recall\":recall,'f1':f1}\n",
        "    key='train Size ' + str(trainSize)\n",
        "    Evaluations[key]={'Random':random_acc,'Gradiant':sgd_acc}\n",
        "    cm=confusion_matrix(y_test,random_predict)\n",
        "    cm_random_forest.append([trainSize,cm])\n",
        "    accuracy_random = accuracy_score(y_test, random_predict)\n",
        "\n",
        "    cm=confusion_matrix(y_test,sgd_predict)\n",
        "    cm_gradiant_decsent.append([trainSize,cm])\n",
        "    accuracy_score_gradiant = accuracy_score(y_test, sgd_predict)\n",
        "\n",
        "    accuracy_scores_random.append(accuracy_random)\n",
        "    accuracy_scores_gradiant.append(accuracy_score_gradiant)\n",
        "\n"
      ]
    },
    {
      "cell_type": "code",
      "execution_count": 30,
      "metadata": {},
      "outputs": [
        {
          "name": "stdout",
          "output_type": "stream",
          "text": [
            "Random forest train size : 0.25  confusion matrix: \n",
            " [[182  39  42   5]\n",
            " [ 38 178  24  40]\n",
            " [ 40   5 216  33]\n",
            " [ 17  20  38 208]]\n",
            "Random forest train size : 0.5  confusion matrix: \n",
            " [[392  92  61  25]\n",
            " [ 66 367  40  77]\n",
            " [ 81  12 417  57]\n",
            " [ 31  33  79 420]]\n",
            "Random forest train size : 0.75  confusion matrix: \n",
            " [[562 144  96  41]\n",
            " [ 93 541  57 135]\n",
            " [126  21 586 123]\n",
            " [ 55  58 110 627]]\n",
            "Random forest train size : 1  confusion matrix: \n",
            " [[1]]\n"
          ]
        }
      ],
      "source": [
        "for i in range(len(cm_random_forest)):\n",
        "    print('Random forest train size :',cm_random_forest[i][0],' confusion matrix: \\n',cm_random_forest[i][1])\n"
      ]
    },
    {
      "cell_type": "code",
      "execution_count": 31,
      "metadata": {},
      "outputs": [
        {
          "name": "stdout",
          "output_type": "stream",
          "text": [
            "Gradiant decsent train size : 0.25  confusion matrix: \n",
            " [[182  39  42   5]\n",
            " [ 38 178  24  40]\n",
            " [ 40   5 216  33]\n",
            " [ 17  20  38 208]]\n",
            "Gradiant decsent train size : 0.5  confusion matrix: \n",
            " [[392  92  61  25]\n",
            " [ 66 367  40  77]\n",
            " [ 81  12 417  57]\n",
            " [ 31  33  79 420]]\n",
            "Gradiant decsent train size : 0.75  confusion matrix: \n",
            " [[562 144  96  41]\n",
            " [ 93 541  57 135]\n",
            " [126  21 586 123]\n",
            " [ 55  58 110 627]]\n",
            "Gradiant decsent train size : 1  confusion matrix: \n",
            " [[1]]\n"
          ]
        }
      ],
      "source": [
        "for i in range(len(cm_gradiant_decsent)):\n",
        "    print('Gradiant decsent train size :',cm_gradiant_decsent[i][0],' confusion matrix: \\n',cm_gradiant_decsent[i][1])"
      ]
    },
    {
      "cell_type": "code",
      "execution_count": 32,
      "metadata": {},
      "outputs": [
        {
          "data": {
            "image/png": "[encoded data removed]",
            "text/plain": [
              "<Figure size 432x288 with 2 Axes>"
            ]
          },
          "metadata": {
            "needs_background": "light"
          },
          "output_type": "display_data"
        }
      ],
      "source": [
        "fig , axs=plt.subplots(2)\n",
        "fig.tight_layout(pad=3)\n",
        "# Plot the learning curve\n",
        "axs[0].plot(train_sizes, accuracy_scores_random, marker='o')\n",
        "axs[0].set_title('Random forest Learning Curve')\n",
        "axs.flat[0].set(xlabel='Training Set Size',ylabel='Accuracy')\n",
        "\n",
        "axs[1].plot(train_sizes, accuracy_scores_gradiant, marker='*')\n",
        "axs[1].set_title('Gradient Learning Curve')\n",
        "axs.flat[1].set(xlabel='Training Set Size',ylabel='Accuracy')\n",
        "\n",
        "plt.grid(True)\n",
        "plt.show()"
      ]
    },
    {
      "cell_type": "code",
      "execution_count": 33,
      "metadata": {},
      "outputs": [
        {
          "name": "stdout",
          "output_type": "stream",
          "text": [
            "train Size 0.25\n",
            "{'precision': array([0.65703971, 0.73553719, 0.675     , 0.72727273]), 'recall': array([0.67910448, 0.63571429, 0.73469388, 0.73498233]), 'f1': array([0.66788991, 0.68199234, 0.70358306, 0.73110721])}\n",
            "{'precision': array([0.65703971, 0.73553719, 0.675     , 0.72727273]), 'recall': array([0.67910448, 0.63571429, 0.73469388, 0.73498233]), 'f1': array([0.66788991, 0.68199234, 0.70358306, 0.73110721])}\n",
            "train Size 0.5\n",
            "{'precision': array([0.6877193 , 0.7281746 , 0.69849246, 0.7253886 ]), 'recall': array([0.6877193 , 0.66727273, 0.73544974, 0.74600355]), 'f1': array([0.6877193 , 0.69639469, 0.71649485, 0.73555166])}\n",
            "{'precision': array([0.6877193 , 0.7281746 , 0.69849246, 0.7253886 ]), 'recall': array([0.6877193 , 0.66727273, 0.73544974, 0.74600355]), 'f1': array([0.6877193 , 0.69639469, 0.71649485, 0.73555166])}\n",
            "train Size 0.75\n",
            "{'precision': array([0.6722488 , 0.70811518, 0.69022379, 0.67710583]), 'recall': array([0.66666667, 0.65496368, 0.68457944, 0.73764706]), 'f1': array([0.6694461 , 0.68050314, 0.68739003, 0.70608108])}\n",
            "{'precision': array([0.6722488 , 0.70811518, 0.69022379, 0.67710583]), 'recall': array([0.66666667, 0.65496368, 0.68457944, 0.73764706]), 'f1': array([0.6694461 , 0.68050314, 0.68739003, 0.70608108])}\n",
            "train Size 1\n",
            "{'precision': array([1.]), 'recall': array([1.]), 'f1': array([1.])}\n",
            "{'precision': array([1.]), 'recall': array([1.]), 'f1': array([1.])}\n"
          ]
        }
      ],
      "source": [
        "for key in Evaluations.keys():\n",
        "    print(key)\n",
        "    print(Evaluations[key]['Random'])\n",
        "    print(Evaluations[key]['Gradiant'])"
      ]
    }
  ],
  "metadata": {
    "colab": {
      "provenance": []
    },
    "kernelspec": {
      "display_name": "Python 3",
      "name": "python3"
    },
    "language_info": {
      "codemirror_mode": {
        "name": "ipython",
        "version": 3
      },
      "file_extension": ".py",
      "mimetype": "text/x-python",
      "name": "python",
      "nbconvert_exporter": "python",
      "pygments_lexer": "ipython3",
      "version": "3.9.7"
    }
  },
  "nbformat": 4,
  "nbformat_minor": 0
}
